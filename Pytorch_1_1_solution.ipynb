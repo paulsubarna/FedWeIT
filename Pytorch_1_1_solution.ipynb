{
  "cells": [
    {
      "cell_type": "markdown",
      "metadata": {
        "id": "view-in-github",
        "colab_type": "text"
      },
      "source": [
        "<a href=\"https://colab.research.google.com/github/paulsubarna/FedWeIT/blob/main/Pytorch_1_1_solution.ipynb\" target=\"_parent\"><img src=\"https://colab.research.google.com/assets/colab-badge.svg\" alt=\"Open In Colab\"/></a>"
      ]
    },
    {
      "cell_type": "markdown",
      "metadata": {
        "id": "C_yjsDNw_SVY"
      },
      "source": [
        "# 🧠 1.1. Introductory Tutorial: Solution\n",
        "\n",
        "In this introductory tutorial, we will revisit some of the fundamental concepts involved in training neural networks with PyTorch.\n",
        "\n",
        "To begin, we will re-familiarize ourselves with the process of loading data and working with PyTorch’s built-in utilities.\n",
        "\n",
        "The tutorial will cover the following topics:\n",
        "1. Basic usage of PyTorch DataLoaders\n",
        "2. Loading and preprocessing built-in datasets (e.g., CIFAR-10, Imagenette)\n",
        "3. Creating a custom dataset class\n",
        "4. Applying data transformations\n",
        "5. Handling image and text data\n",
        "\n",
        "\n",
        "\n",
        "**TO-DO**\n",
        "1. Create a simple tensor dataset of arbitrary shape and load it using PyTorch’s built-in utilities such as torch.utils.data.TensorDataset and DataLoader\n",
        "2. The DataLoader class provides several parameters that can affect performance. Can you think of ways to configure the same DataLoader to load data more efficiently (i.e., faster)?\n"
      ],
      "id": "C_yjsDNw_SVY"
    },
    {
      "cell_type": "code",
      "metadata": {
        "colab": {
          "base_uri": "https://localhost:8080/"
        },
        "id": "5EJzC0ih_SVc",
        "outputId": "854d7edf-0027-4727-9b4e-6671ae3817d3"
      },
      "source": [
        "import torch\n",
        "import torch.nn as nn\n",
        "from torch.utils.data import DataLoader, TensorDataset\n",
        "import time\n",
        "# Simple tensor data\n",
        "X = torch.randn(10000, 3)\n",
        "y = torch.randint(0, 2, (10000,))\n",
        "\n",
        "# Dataset and DataLoader\n",
        "dataset = TensorDataset(X, y)\n",
        "loader = DataLoader(dataset, batch_size=10, shuffle=True)\n",
        "start= time.time()\n",
        "for batch_X, batch_y in loader:\n",
        "    print('The input data shape: ',batch_X.shape, batch_y.shape)\n",
        "    out = nn.Linear(3,2)(batch_X)\n",
        "    print('The output shape: ',out.shape)\n",
        "    break\n",
        "\n",
        "#** TO **\n",
        "### Can you think of a way how to use the same DataLoader method to load the data faster?\n",
        "# To load and preprocess data, we need to assign how many subprocesses we want to parallelize our data loading step in our DataLoader object .\n",
        "fast_loader = DataLoader(dataset, batch_size = 10, shuffle= True, num_workers = 2)"
      ],
      "id": "5EJzC0ih_SVc",
      "execution_count": 16,
      "outputs": [
        {
          "output_type": "stream",
          "name": "stdout",
          "text": [
            "The input data shape:  torch.Size([10, 3]) torch.Size([10])\n",
            "The output shape:  torch.Size([10, 2])\n"
          ]
        }
      ]
    },
    {
      "cell_type": "code",
      "source": [],
      "metadata": {
        "id": "GQs23b3gerWp"
      },
      "id": "GQs23b3gerWp",
      "execution_count": null,
      "outputs": []
    },
    {
      "cell_type": "markdown",
      "metadata": {
        "id": "SQQV0zZH_SVf"
      },
      "source": [
        "**Working with Images**\n",
        "\n",
        "We will explore different data modalities and learn how to load various types of data in PyTorch.\n",
        "1. The torchvision library provides several benchmark image datasets such as CIFAR-100, Imagenette, and others.\n",
        "2. Try loading one of these pre-built datasets and visualize a few sample images using Matplotlib."
      ],
      "id": "SQQV0zZH_SVf"
    },
    {
      "cell_type": "code",
      "metadata": {
        "colab": {
          "base_uri": "https://localhost:8080/",
          "height": 447
        },
        "id": "Uvw1O6Q6_SVh",
        "outputId": "930f5704-4d0c-4f42-bcd3-7cf8dee4a5f7"
      },
      "source": [
        "from torchvision import datasets, transforms\n",
        "from torch.utils.data import DataLoader\n",
        "import matplotlib.pyplot as plt\n",
        "import numpy as np\n",
        "\n",
        "\n",
        "\n",
        "train_data = datasets.CIFAR10(root='data', train=True, download=True, transform=transforms.ToTensor())\n",
        "\n",
        "train_loader = DataLoader(train_data, batch_size=64, shuffle=True, pin_memory=False, num_workers=2)\n",
        "images, labels = next(iter(train_loader))\n",
        "print(images.shape, labels.shape)\n",
        "\n",
        "## Visualizing data samples\n",
        "def imshow(img):\n",
        "    img = img / 2 + 0.5     # unnormalize\n",
        "    npimg = img.numpy()\n",
        "    plt.imshow(np.transpose(npimg, (1, 2, 0)))\n",
        "    plt.show()\n",
        "\n",
        "imshow(images[0])\n"
      ],
      "id": "Uvw1O6Q6_SVh",
      "execution_count": 19,
      "outputs": [
        {
          "output_type": "stream",
          "name": "stdout",
          "text": [
            "torch.Size([64, 3, 32, 32]) torch.Size([64])\n"
          ]
        },
        {
          "output_type": "display_data",
          "data": {
            "text/plain": [
              "<Figure size 640x480 with 1 Axes>"
            ],
            "image/png": "[encoded data removed]"
          },
          "metadata": {}
        }
      ]
    },
    {
      "cell_type": "markdown",
      "metadata": {
        "id": "sqG7ukNe_SVh"
      },
      "source": [
        "\n",
        "Custom Dataset class\n",
        "=============\n",
        "However, in some cases, when the dataset is obtained from external sources, the built-in Dataset or DataLoader classes may not work as expected due to differences in the dataset’s structure or format. To address this, we can define a custom Dataset subclass that inherits from PyTorch’s Dataset class and adapts the loading process to our specific data layout\n",
        "\n",
        "`torch.utils.data.Dataset` is an abstract class representing a dataset.\n",
        "Your custom dataset should inherit `Dataset` and override the following\n",
        "methods:\n",
        "\n",
        "-   `__len__` so that `len(dataset)` returns the size of the dataset.\n",
        "-   `__getitem__` to support the indexing such that `dataset[i]` can be used to get ``i^th`` sample.\n",
        "\n",
        "Load the Imagenette dataset from PyTorch. You will notice that the directory is organized into multiple subfolders, each representing a class containing its corresponding image samples.\n",
        "\n",
        "In your custom dataset class, read the dataset structure inside the ``__init__`` method, but defer loading individual samples to the ``__getitem__`` method. This approach is memory-efficient since the data are not all loaded into memory at once, but accessed only when needed.\n",
        "\n",
        "Each sample in the dataset will be a tuple of (image, label).\n",
        "Additionally, our dataset class will include an optional transform argument, allowing you to apply preprocessing or data augmentation to each sample. We will discuss the importance and use of transform in the next cells."
      ],
      "id": "sqG7ukNe_SVh"
    },
    {
      "cell_type": "code",
      "source": [
        "#/content/data/imagenette2/train\n",
        "import os\n",
        "from PIL import Image\n",
        "from torch.utils.data import Dataset\n",
        "train_data = datasets.Imagenette(root='data', split=\"train\", download=True, transform=False)\n",
        "\n",
        "\n",
        "class ImageNet_Dataset(Dataset):\n",
        "  def __init__(self, image_directory, transform) -> None:\n",
        "      super().__init__()\n",
        "      self.transform = transform\n",
        "      self.image_directory =  image_directory\n",
        "      # Get the class labels from the directory names\n",
        "      class_labels = os.listdir(image_directory)\n",
        "      self.images = []\n",
        "      self.labels = [] # Separate list for storing labels\n",
        "      self.labels_to_idx = {}\n",
        "\n",
        "      for idx, label in enumerate(class_labels):\n",
        "        self.labels_to_idx[label] = idx\n",
        "\n",
        "        label_path = os.path.join(image_directory, label)\n",
        "        #print(label_path)\n",
        "        # Check if the label_path is a directory before listing its contents\n",
        "        if os.path.isdir(label_path):\n",
        "            for image_ in os.listdir(label_path):\n",
        "              image_path = os.path.join(label_path, image_)\n",
        "              if image_path.endswith(\".JPEG\"):\n",
        "                self.images.append(image_path)\n",
        "                self.labels.append(idx) # Append integer label to the new list\n",
        "\n",
        "\n",
        "  def __len__(self):\n",
        "      return len(self.images)\n",
        "\n",
        "  def __getitem__(self, idx):\n",
        "      image_path = self.images[idx]\n",
        "      label = self.labels[idx]\n",
        "      image = Image.open(image_path).convert('RGB') # Open image and convert to RGB\n",
        "      if self.transform:\n",
        "          image = self.transform(image)\n",
        "\n",
        "      return image, label"
      ],
      "metadata": {
        "id": "4iV_E9C8LEx2",
        "colab": {
          "base_uri": "https://localhost:8080/"
        },
        "outputId": "88cfb529-27f4-4960-fc79-c7987e13d743"
      },
      "id": "4iV_E9C8LEx2",
      "execution_count": 18,
      "outputs": [
        {
          "output_type": "stream",
          "name": "stderr",
          "text": [
            "100%|██████████| 1.56G/1.56G [00:33<00:00, 47.0MB/s]\n"
          ]
        }
      ]
    },
    {
      "cell_type": "code",
      "source": [
        "imagenette = ImageNet_Dataset(\"/content/data/imagenette2/train\", transform=transforms.ToTensor())\n",
        "dataloader = DataLoader(imagenette, batch_size=32, shuffle=True)\n",
        "try:\n",
        "  images , labels = next(iter(dataloader))\n",
        "except:\n",
        "  print('size mismatch across input images: Use proper transformations on the input data')"
      ],
      "metadata": {
        "colab": {
          "base_uri": "https://localhost:8080/"
        },
        "id": "fyOzD8D5g2MV",
        "outputId": "cac45575-096d-45b3-ca7b-c701bb2563b9"
      },
      "id": "fyOzD8D5g2MV",
      "execution_count": 26,
      "outputs": [
        {
          "output_type": "stream",
          "name": "stdout",
          "text": [
            "size mismatch across input images: Use proper transformations on the input data\n"
          ]
        }
      ]
    },
    {
      "cell_type": "markdown",
      "source": [
        "Transforms\n",
        "==========\n",
        "\n",
        "One issue we can see from the above is that the samples are not of the\n",
        "same size. Since most neural networks expect inputs of a fixed dimension, we need to perform some preprocessing to standardize the image sizes.\n",
        "three transforms object with the built in PyTorch function `` transforms.Compose ``:\n",
        "\n",
        "Hint: Use augmentation techniques like Rescale, RandomCrop, RandomHorizontalFlip, ToTensor, etc.\n",
        "\n",
        "`` State``: Why are transformations such as RandomHorizontalFlip, ColorJitter for data helpful in data processing?\n",
        "\n",
        "\n"
      ],
      "metadata": {
        "id": "2CiIQjpaR6JQ"
      },
      "id": "2CiIQjpaR6JQ"
    },
    {
      "cell_type": "code",
      "source": [
        "transform = transforms.Compose((\n",
        "    transforms.RandomResizedCrop(256),\n",
        "    transforms.Resize((224, 224)),\n",
        "    transforms.ToTensor()))\n",
        "\n",
        "\n",
        "imagenette = ImageNet_Dataset(\"/content/data/imagenette2/train\", transform=transform)\n",
        "dataloader = DataLoader(imagenette, batch_size=32, shuffle=True, num_workers = 2)\n",
        "images , labels = next(iter(dataloader))\n",
        "print(images.shape, labels.shape)"
      ],
      "metadata": {
        "id": "eYFweyL_NjTj",
        "colab": {
          "base_uri": "https://localhost:8080/"
        },
        "outputId": "348ea2aa-6569-4ccc-fcda-43d06cbffe42"
      },
      "id": "eYFweyL_NjTj",
      "execution_count": 28,
      "outputs": [
        {
          "output_type": "stream",
          "name": "stdout",
          "text": [
            "torch.Size([32, 3, 224, 224]) torch.Size([32])\n"
          ]
        }
      ]
    },
    {
      "cell_type": "markdown",
      "metadata": {
        "id": "-CKzsGxG_SVk"
      },
      "source": [
        "## Working with texts\n",
        "\n",
        "Unlike image data, textual data requires a few additional preprocessing steps before it can be used for model training. You can build a custom vocabulary from your input corpus and design a tokenizer around it. However, there are also publicly available pretrained tokenizers (such as those in Hugging Face) that eliminate the need to create one from scratch.\n",
        "\n",
        "Following a similar approach to what we used for image data, let’s now create a custom Dataset class for textual data to handle loading and preprocessing."
      ],
      "id": "-CKzsGxG_SVk"
    },
    {
      "cell_type": "code",
      "source": [
        "#Create a sample piece of text as textual data for the model\n"
      ],
      "metadata": {
        "id": "5FI2a5ZnhpX8"
      },
      "id": "5FI2a5ZnhpX8",
      "execution_count": 30,
      "outputs": []
    },
    {
      "cell_type": "code",
      "metadata": {
        "colab": {
          "base_uri": "https://localhost:8080/"
        },
        "id": "19d61588",
        "outputId": "59a90609-7660-4127-a37f-796a437706d5"
      },
      "source": [
        "# Create a sample text file\n",
        "sample_text = \"\"\"This is the first sentence.\\tpositive\n",
        "This is the second sentence, which is a bit longer.\\tnegative\n",
        "A third sentence for testing.\\tpositive\n",
        "Another negative example here.\\tnegative\n",
        "Short positive example.\\tpositive\n",
        "\"\"\"\n",
        "\n",
        "with open(\"./train.txt\", \"w\") as f:\n",
        "    f.write(sample_text)\n",
        "\n",
        "# Create a sample validation file\n",
        "sample_val_text = \"\"\"This is a validation sentence.\\tpositive\n",
        "Another one for validation.\\tnegative\n",
        "\"\"\"\n",
        "\n",
        "with open(\"./val.txt\", \"w\") as f:\n",
        "    f.write(sample_val_text)\n",
        "\n",
        "print(\"Sample text files created: ./train.txt and ./val.txt\")"
      ],
      "id": "19d61588",
      "execution_count": 32,
      "outputs": [
        {
          "output_type": "stream",
          "name": "stdout",
          "text": [
            "Sample text files created: ./train.txt and ./val.txt\n"
          ]
        }
      ]
    },
    {
      "cell_type": "code",
      "source": [
        "import torch\n",
        "from torch.utils.data import Dataset, DataLoader\n",
        "from transformers import AutoTokenizer\n",
        "\n",
        "tokenizer = AutoTokenizer.from_pretrained(\"bert-base-uncased\")\n",
        "label2idx = {\"negative\": 0, \"positive\": 1}\n",
        "class TextDataset(Dataset):\n",
        "    def __init__(self, file_path, tokenizer, label2idx, max_length=128):\n",
        "        self.samples = []\n",
        "        self.tokenizer = tokenizer\n",
        "        self.label2idx = label2idx\n",
        "        self.max_length = max_length\n",
        "\n",
        "        with open(file_path, \"r\", encoding=\"utf-8\") as f:\n",
        "            for line in f:\n",
        "                text, label = line.strip().split(\"\\t\")\n",
        "                self.samples.append((text, label))\n",
        "\n",
        "    def __len__(self):\n",
        "        return len(self.samples)\n",
        "\n",
        "    def __getitem__(self, idx):\n",
        "        text, label = self.samples[idx]\n",
        "        encoding = self.tokenizer(\n",
        "            text,\n",
        "            padding='max_length',       # pad to fixed length\n",
        "            truncation=True,            # truncate long text\n",
        "            max_length=self.max_length, # fixed input size\n",
        "            return_tensors='pt'         # return PyTorch tensors\n",
        "        )\n",
        "\n",
        "        item = {key: val.squeeze(0) for key, val in encoding.items()}  # remove batch dim\n",
        "        item['labels'] = torch.tensor(self.label2idx[label], dtype=torch.long)\n",
        "        return item\n",
        "\n",
        "\n",
        "train_dataset = TextDataset(\"./train.txt\", tokenizer, label2idx)\n",
        "val_dataset = TextDataset(\"./val.txt\", tokenizer, label2idx)\n",
        "\n",
        "train_loader = DataLoader(train_dataset, batch_size=8, shuffle=True)\n",
        "val_loader = DataLoader(val_dataset, batch_size=8)\n",
        "\n",
        "batch = next(iter(train_loader))\n",
        "for key, val in batch.items():\n",
        "    print(f\"{key}: {val.shape}\")\n",
        "\n"
      ],
      "metadata": {
        "id": "3Q1v_JL9Slk_",
        "colab": {
          "base_uri": "https://localhost:8080/",
          "height": 321,
          "referenced_widgets": [
            "5e444dfbf4d24cc4acb4a6544905a7e1",
            "2768bdf82d2e418a92c4b9b0e2e67e9a",
            "dafafa63cb7d4e27a981646d034190c6",
            "f14a03f217ad433eb209a55b26e6142a",
            "e3f9bceac58b4081a2c660819f923a5a",
            "4652425565de42a39a7bcebfd81e8920",
            "3c9d60b1501643c3b9cda2cf80deb519",
            "9d6083451a8348009d43eb27af2fb5f2",
            "2252fd75a7f34f2f81863e661ca15140",
            "b629fa259f144675ab643a24306b5074",
            "993ec262fc634d9daace19ef4ba4b7c6",
            "009857add9134fbfa868765e0c0052fc",
            "4fa2d678021b4b63a6dc147ff4be2d98",
            "721ce3bf856f4af28b3946838830f4c2",
            "c563a784518c4b2ebdd9ef856fcd0cb2",
            "071c91e8f8e04eba9417e89b710391d4",
            "c8f6cc86c85e442180d4c11259d408ba",
            "a9c8b53c0b2d48bb918f7dfa2ef638a7",
            "65089ef3b7da4ee684ce5fbdd9c059ce",
            "3c0fbb349c00443088d0a41d4c05f058",
            "40e4680a19ba49f382be3ef07dabb301",
            "2abbeed4bb2140a9a54964f7ed570cfd",
            "d26a64d3c4e347d590beecbd42facbaa",
            "0c72094d8a7048a8a418dd0152eb000f",
            "c44e3e7e531944f091f18cbfddc7c4db",
            "d0164a1c55874a639c2b2749b2258e9b",
            "f157afa86f084d54aa0664fcfb46d4c0",
            "bf4258a4d6654235be4119da94919e2b",
            "404c3844d97e4036b8dd2741c5c7eb67",
            "d08d6ddb88f2418f9de50870abef81cd",
            "b3e31cd86db649faa768916d6202798e",
            "9c9496bbbf1f4fc18acd25a214f6a87c",
            "d600e142d58f460abd407c6ef2c2a964",
            "2079b8ed133a4e5e9afdc9cf0c0d1aba",
            "ffb39dd252024f259ad47892468f6436",
            "0c0f1f6f7bff4a29a31251f2fadb45ea",
            "04ff84b1caba4d1588d8d0fe8678785c",
            "dc35d24f638048c0aba4bf256ebff315",
            "2ec85e726f4146ddb1b0c2c1f65f3983",
            "04557257da844935b1dbb09002e32bfb",
            "676b5494de474a868f70a08c44be0958",
            "793cd4ec4b5e41ad8e7c0cdaf76e8c87",
            "e1c43a0052584ee6bfb1da1894c50388",
            "ccb029f6887c4d79896ae68ddf79175d"
          ]
        },
        "outputId": "c626cb70-31de-4915-c0f4-aa54f4e9bfed"
      },
      "id": "3Q1v_JL9Slk_",
      "execution_count": 34,
      "outputs": [
        {
          "output_type": "stream",
          "name": "stderr",
          "text": [
            "/usr/local/lib/python3.12/dist-packages/huggingface_hub/utils/_auth.py:104: UserWarning: \n",
            "Error while fetching `HF_TOKEN` secret value from your vault: 'Requesting secret HF_TOKEN timed out. Secrets can only be fetched when running from the Colab UI.'.\n",
            "You are not authenticated with the Hugging Face Hub in this notebook.\n",
            "If the error persists, please let us know by opening an issue on GitHub (https://github.com/huggingface/huggingface_hub/issues/new).\n",
            "  warnings.warn(\n"
          ]
        },
        {
          "output_type": "display_data",
          "data": {
            "text/plain": [
              "tokenizer_config.json:   0%|          | 0.00/48.0 [00:00<?, ?B/s]"
            ],
            "application/vnd.jupyter.widget-view+json": {
              "version_major": 2,
              "version_minor": 0,
              "model_id": "5e444dfbf4d24cc4acb4a6544905a7e1"
            }
          },
          "metadata": {}
        },
        {
          "output_type": "display_data",
          "data": {
            "text/plain": [
              "config.json:   0%|          | 0.00/570 [00:00<?, ?B/s]"
            ],
            "application/vnd.jupyter.widget-view+json": {
              "version_major": 2,
              "version_minor": 0,
              "model_id": "009857add9134fbfa868765e0c0052fc"
            }
          },
          "metadata": {}
        },
        {
          "output_type": "display_data",
          "data": {
            "text/plain": [
              "vocab.txt:   0%|          | 0.00/232k [00:00<?, ?B/s]"
            ],
            "application/vnd.jupyter.widget-view+json": {
              "version_major": 2,
              "version_minor": 0,
              "model_id": "d26a64d3c4e347d590beecbd42facbaa"
            }
          },
          "metadata": {}
        },
        {
          "output_type": "display_data",
          "data": {
            "text/plain": [
              "tokenizer.json:   0%|          | 0.00/466k [00:00<?, ?B/s]"
            ],
            "application/vnd.jupyter.widget-view+json": {
              "version_major": 2,
              "version_minor": 0,
              "model_id": "2079b8ed133a4e5e9afdc9cf0c0d1aba"
            }
          },
          "metadata": {}
        },
        {
          "output_type": "stream",
          "name": "stdout",
          "text": [
            "input_ids: torch.Size([5, 128])\n",
            "token_type_ids: torch.Size([5, 128])\n",
            "attention_mask: torch.Size([5, 128])\n",
            "labels: torch.Size([5])\n"
          ]
        }
      ]
    },
    {
      "cell_type": "markdown",
      "source": [
        "## Weight Initialization\n",
        "\n",
        "Now that we have explored how to load different types of data, another crucial aspect of model training is weight initialization. There are several reasons why randomly initializing the weights of a neural network may not be ideal.\n",
        "\n",
        "**TO-DO**\n",
        "1. Can you state some of the reasons?\n",
        "2. Define a simple 2-3 layer MLP network which we will need for the following cells"
      ],
      "metadata": {
        "id": "TtqwRnoWFAwe"
      },
      "id": "TtqwRnoWFAwe"
    },
    {
      "cell_type": "code",
      "source": [
        "import torch\n",
        "import torch.nn as nn\n",
        "import torch.nn.init as init\n",
        "\n",
        "class SimpleNet(nn.Module):\n",
        "    def __init__(self):\n",
        "        super(SimpleNet, self).__init__()\n",
        "        self.fc1 = nn.Linear(784, 256)\n",
        "        self.fc2 = nn.Linear(256, 128)\n",
        "        self.fc3 = nn.Linear(128, 10)\n",
        "\n",
        "    def forward(self, x):\n",
        "        x = torch.relu(self.fc1(x))\n",
        "        x = torch.relu(self.fc2(x))\n",
        "        return self.fc3(x)\n"
      ],
      "metadata": {
        "id": "DK9PrlDhFoEx"
      },
      "id": "DK9PrlDhFoEx",
      "execution_count": 2,
      "outputs": []
    },
    {
      "cell_type": "markdown",
      "source": [
        "## Different types of Weight Initialization\n",
        "\n",
        "There exists several types of weight initialization techniques. Few of the popular ones are:\n",
        "1. Xavier Initialization\n",
        "2. Uniform Initialization\n",
        "3. Kaiming Initialization\n",
        "4. Orthogonal initilization\n",
        "\n",
        "**To-DO**\n",
        "\n",
        "1. Define functions for each weight initialization technique.\n"
      ],
      "metadata": {
        "id": "9ZeK6S0gMqoC"
      },
      "id": "9ZeK6S0gMqoC"
    },
    {
      "cell_type": "code",
      "source": [
        "def init_xavier(m):\n",
        "    if isinstance(m, nn.Linear):\n",
        "        init.xavier_normal_(m.weight)\n",
        "        init.zeros_(m.bias)\n",
        "\n",
        "model = SimpleNet()\n",
        "model.apply(init_xavier)\n",
        "\n",
        "def init_uniform(m):\n",
        "    if isinstance(m, nn.Linear):\n",
        "        init.uniform_(m.weight, a=0, b=1)\n",
        "        init.zeros_(m.bias)\n",
        "\n",
        "model = SimpleNet()\n",
        "model.apply(init_uniform)\n",
        "\n",
        "def init_kaiming(m):\n",
        "    if isinstance(m, nn.Linear):\n",
        "        init.kaiming_normal_(m.weight, nonlinearity='relu')\n",
        "        init.zeros_(m.bias)\n",
        "\n",
        "model = SimpleNet()\n",
        "model.apply(init_kaiming)\n",
        "\n",
        "def init_orthogonal(m):\n",
        "    if isinstance(m, nn.Linear):\n",
        "        init.orthogonal_(m.weight)\n",
        "        init.zeros_(m.bias)\n",
        "\n",
        "model = SimpleNet()\n",
        "model.apply(init_orthogonal)\n"
      ],
      "metadata": {
        "colab": {
          "base_uri": "https://localhost:8080/"
        },
        "id": "mzz-k-28HC8D",
        "outputId": "a2dada8c-9287-4d86-bd52-b0904ae918e4"
      },
      "id": "mzz-k-28HC8D",
      "execution_count": 3,
      "outputs": [
        {
          "output_type": "execute_result",
          "data": {
            "text/plain": [
              "SimpleNet(\n",
              "  (fc1): Linear(in_features=784, out_features=256, bias=True)\n",
              "  (fc2): Linear(in_features=256, out_features=128, bias=True)\n",
              "  (fc3): Linear(in_features=128, out_features=10, bias=True)\n",
              ")"
            ]
          },
          "metadata": {},
          "execution_count": 3
        }
      ]
    },
    {
      "cell_type": "markdown",
      "source": [
        "** TO-DO **\n",
        "\n",
        "1. Next, visualize the weight distribution of individual layers in your neural network, preferably the first layer, for each initialization technique.\n",
        "2. Do you notice any differences between the distributions? In addition, under what circumstances would you choose a specific type of initialization?"
      ],
      "metadata": {
        "id": "1_eUXg6kkhHx"
      },
      "id": "1_eUXg6kkhHx"
    },
    {
      "cell_type": "code",
      "source": [
        "import matplotlib.pyplot as plt\n",
        "model = SimpleNet()\n",
        "model.apply(init_uniform)\n",
        "weights = model.fc1.weight.data.view(-1).cpu().numpy()\n",
        "plt.hist(weights, bins=50)\n",
        "\n",
        "model = SimpleNet()\n",
        "model.apply(init_xavier)\n",
        "weights_ = model.fc1.weight.data.view(-1).cpu().numpy()\n",
        "plt.hist(weights_, bins=50)\n",
        "\n",
        "model = SimpleNet()\n",
        "model.apply(init_kaiming)\n",
        "weights_ = model.fc1.weight.data.view(-1).cpu().numpy()\n",
        "plt.hist(weights_, bins=50)\n",
        "\n",
        "model = SimpleNet()\n",
        "model.apply(init_orthogonal)\n",
        "weights_ = model.fc1.weight.data.view(-1).cpu().numpy()\n",
        "plt.hist(weights_, bins=50)\n",
        "plt.legend([\"Uniform\", \"Xavier\", 'kaiming', \"Orthogonal\"])\n",
        "plt.title(\"Weight Distribution after Initialization\")\n",
        "plt.show()\n"
      ],
      "metadata": {
        "colab": {
          "base_uri": "https://localhost:8080/",
          "height": 452
        },
        "id": "nRfC_2oiHJI6",
        "outputId": "fcdcf247-bacd-4d53-9e15-7cc9bad9748e"
      },
      "id": "nRfC_2oiHJI6",
      "execution_count": 38,
      "outputs": [
        {
          "output_type": "display_data",
          "data": {
            "text/plain": [
              "<Figure size 640x480 with 1 Axes>"
            ],
            "image/png": "[encoded data removed]"
          },
          "metadata": {}
        }
      ]
    },
    {
      "cell_type": "markdown",
      "source": [
        "** TO-DO **\n",
        "\n",
        "1. Compare the difference in output variance between the different types of weight initialization. Hint: use output.var()"
      ],
      "metadata": {
        "id": "JDRAgD33sUj2"
      },
      "id": "JDRAgD33sUj2"
    },
    {
      "cell_type": "code",
      "source": [
        "def compare_inits(init_fn, name):\n",
        "    model = SimpleNet()\n",
        "    model.apply(init_fn)\n",
        "    x = torch.randn(100, 784)\n",
        "    with torch.no_grad():\n",
        "        y = model(x)\n",
        "    print(f\"{name} output variance: {y.var().item():.4f}\")\n",
        "\n",
        "compare_inits(init_uniform, \"Uniform\")\n",
        "compare_inits(init_xavier, \"Xavier\")\n",
        "compare_inits(init_kaiming, \"Kaiming\")\n",
        "compare_inits(init_orthogonal, \"Orthogonal\")\n"
      ],
      "metadata": {
        "colab": {
          "base_uri": "https://localhost:8080/"
        },
        "id": "eMbLJXh7HLY8",
        "outputId": "b8647df2-a628-4aba-a269-33435c179354"
      },
      "id": "eMbLJXh7HLY8",
      "execution_count": 39,
      "outputs": [
        {
          "output_type": "stream",
          "name": "stdout",
          "text": [
            "Uniform output variance: 3666744064.0000\n",
            "Xavier output variance: 0.8332\n",
            "Kaiming output variance: 2.2624\n",
            "Orthogonal output variance: 0.2851\n"
          ]
        }
      ]
    },
    {
      "cell_type": "markdown",
      "source": [
        "** TO-DO **\n",
        "\n",
        "The final step would be to bring all these components together to train a neural Network.\n",
        "\n",
        "1. Select a simple dataset from PyTorch dataset library and train a network network using different initializations. Report the empirical findings.\n",
        "  - Which initialization method facilitates faster convergence?\n",
        "  - Which method achieves the best overall performance?"
      ],
      "metadata": {
        "id": "T3b_fAyq1XwK"
      },
      "id": "T3b_fAyq1XwK"
    },
    {
      "cell_type": "code",
      "source": [
        "### TO-DO\n",
        "mnist = datasets.MNIST(root='data', train=True, download=True, transform=transforms.ToTensor())\n",
        "mnist_test = datasets.MNIST(root='data', train=False, download=True, transform=transforms.ToTensor())\n",
        "train_loader = DataLoader(mnist, batch_size=64, shuffle=True)\n",
        "test_loader = DataLoader(mnist, batch_size=64, shuffle=False)\n",
        "from tqdm import tqdm\n",
        "\n",
        "# Define your training and validation split\n",
        "\n",
        "## Train function\n",
        "model = SimpleNet()\n",
        "def train(model, epochs, train_loader, optimizer, criterion):\n",
        "    model.train()\n",
        "    losses = []\n",
        "    accuracy = []\n",
        "    for _ in tqdm(range(epochs)):\n",
        "      total_loss = 0.0\n",
        "      for batch_idx, (data, target) in enumerate(train_loader):\n",
        "        optimizer.zero_grad()\n",
        "        data = data.view(data.size(0), -1)\n",
        "        output = model(data)\n",
        "        loss = criterion(output, target)\n",
        "        loss.backward()\n",
        "        optimizer.step()\n",
        "        acc = (output.argmax(dim=1) == target).float().mean()\n",
        "        total_loss += loss\n",
        "\n",
        "      avg_loss = total_loss / len(train_loader)\n",
        "      avg_acc = acc / len(train_loader)\n",
        "      losses.append(avg_loss)\n",
        "      accuracy.append(avg_acc)\n",
        "    return accuracy, losses\n",
        "\n",
        "def test(model, test_loader):\n",
        "    model.eval()\n",
        "\n",
        "    correct = 0\n",
        "    with torch.no_grad():\n",
        "        for data, target in test_loader:\n",
        "            data = data.view(data.size(0), -1)\n",
        "            output = model(data)\n",
        "            pred = output.argmax(dim=1, keepdim=True)\n",
        "            correct += pred.eq(target.view_as(pred)).sum().item()\n",
        "\n",
        "    accuracy = 100. * correct / len(test_loader.dataset)\n",
        "    return accuracy\n",
        "\n",
        "## Train the models with different initializations\n",
        "model = SimpleNet()\n",
        "weight_init = [init_uniform, init_kaiming, init_xavier, init_orthogonal]\n",
        "train_acc_per_init = []\n",
        "train_loss_per_init = []\n",
        "test_acc_per_init = []\n",
        "for wt_init in weight_init:\n",
        "  model = SimpleNet()\n",
        "  model.apply(wt_init)\n",
        "  optimizer = torch.optim.SGD(model.parameters(), lr=0.01, momentum=0.9)\n",
        "  criterion = nn.CrossEntropyLoss()\n",
        "  acc, loss = train(model, 10, train_loader, optimizer, criterion)\n",
        "  train_acc_per_init.append(acc)\n",
        "  train_loss_per_init.append(loss)\n",
        "  acc_ = test(model, test_loader)\n",
        "  test_acc_per_init.append(acc_)\n",
        "\n",
        "# You are free to choose any optimizer such as SGD or ADAM\n"
      ],
      "metadata": {
        "id": "D2uZs8mDhhBZ",
        "colab": {
          "base_uri": "https://localhost:8080/"
        },
        "outputId": "f6989dc5-4719-4696-d100-dc8f752e1230"
      },
      "id": "D2uZs8mDhhBZ",
      "execution_count": 20,
      "outputs": [
        {
          "output_type": "stream",
          "name": "stderr",
          "text": [
            "100%|██████████| 10/10 [02:32<00:00, 15.30s/it]\n",
            "100%|██████████| 10/10 [01:56<00:00, 11.64s/it]\n",
            "100%|██████████| 10/10 [01:55<00:00, 11.60s/it]\n",
            "100%|██████████| 10/10 [01:58<00:00, 11.86s/it]\n"
          ]
        }
      ]
    },
    {
      "cell_type": "code",
      "source": [
        "for i in range(len(train_acc_per_init)):\n",
        "  train_acc_per_init[i] = [float(l.detach().cpu()) for l in train_acc_per_init[i]]\n",
        "  train_loss_per_init[i] = [float(l.detach().cpu()) for l in train_loss_per_init[i]]\n",
        "  test_acc_per_init[i] = float(test_acc_per_init[i])"
      ],
      "metadata": {
        "id": "QkCcALJObPyM"
      },
      "id": "QkCcALJObPyM",
      "execution_count": 21,
      "outputs": []
    },
    {
      "cell_type": "code",
      "source": [
        "import matplotlib.pyplot as plt\n",
        "## plot uniform initialization\n",
        "plt.plot(train_loss_per_init[0], label=f\"{weight_init[0].__name__}\")\n",
        "plt.legend()\n",
        "#plt.plot(loss)"
      ],
      "metadata": {
        "id": "6mZd7QgQqiti",
        "colab": {
          "base_uri": "https://localhost:8080/",
          "height": 447
        },
        "outputId": "11b7dcce-7344-43a0-dd4c-228a1d4a9d88"
      },
      "id": "6mZd7QgQqiti",
      "execution_count": 34,
      "outputs": [
        {
          "output_type": "execute_result",
          "data": {
            "text/plain": [
              "<matplotlib.legend.Legend at 0x7cde47f248f0>"
            ]
          },
          "metadata": {},
          "execution_count": 34
        },
        {
          "output_type": "display_data",
          "data": {
            "text/plain": [
              "<Figure size 640x480 with 1 Axes>"
            ],
            "image/png": "[encoded data removed]"
          },
          "metadata": {}
        }
      ]
    },
    {
      "cell_type": "code",
      "source": [
        "## Plot kaiming, orthogonal, or xavier\n",
        "for i in range(1, len(train_loss_per_init)):\n",
        "  print(f'The accuracy with {weight_init[i].__name__} is {test_acc_per_init[i]}')\n",
        "  plt.plot(train_loss_per_init[i], label=f\"{weight_init[i].__name__}\")\n",
        "plt.legend()\n",
        "#plt.plot(train_loss_per_init[3])"
      ],
      "metadata": {
        "colab": {
          "base_uri": "https://localhost:8080/",
          "height": 499
        },
        "id": "_k9aZ9bX1AYM",
        "outputId": "33f707a8-7a27-4d44-853b-524eabbd9655"
      },
      "id": "_k9aZ9bX1AYM",
      "execution_count": 36,
      "outputs": [
        {
          "output_type": "stream",
          "name": "stdout",
          "text": [
            "The accuracy with init_kaiming is 99.67833333333333\n",
            "The accuracy with init_xavier is 99.56666666666666\n",
            "The accuracy with init_orthogonal is 99.59166666666667\n"
          ]
        },
        {
          "output_type": "execute_result",
          "data": {
            "text/plain": [
              "<matplotlib.legend.Legend at 0x7cde47dfeab0>"
            ]
          },
          "metadata": {},
          "execution_count": 36
        },
        {
          "output_type": "display_data",
          "data": {
            "text/plain": [
              "<Figure size 640x480 with 1 Axes>"
            ],
            "image/png": "[encoded data removed]"
          },
          "metadata": {}
        }
      ]
    },
    {
      "cell_type": "code",
      "source": [],
      "metadata": {
        "id": "4VaC6jrNcDh8"
      },
      "id": "4VaC6jrNcDh8",
      "execution_count": null,
      "outputs": []
    }
  ],
  "metadata": {
    "kernelspec": {
      "display_name": "Python 3",
      "language": "python",
      "name": "python3"
    },
    "language_info": {
      "name": "python",
      "version": "3.x"
    },
    "colab": {
      "provenance": [],
      "include_colab_link": true
    },
    "widgets": {
      "application/vnd.jupyter.widget-state+json": {
        "5e444dfbf4d24cc4acb4a6544905a7e1": {
          "model_module": "@jupyter-widgets/controls",
          "model_name": "HBoxModel",
          "model_module_version": "1.5.0",
          "state": {
            "_dom_classes": [],
            "_model_module": "@jupyter-widgets/controls",
            "_model_module_version": "1.5.0",
            "_model_name": "HBoxModel",
            "_view_count": null,
            "_view_module": "@jupyter-widgets/controls",
            "_view_module_version": "1.5.0",
            "_view_name": "HBoxView",
            "box_style": "",
            "children": [
              "IPY_MODEL_2768bdf82d2e418a92c4b9b0e2e67e9a",
              "IPY_MODEL_dafafa63cb7d4e27a981646d034190c6",
              "IPY_MODEL_f14a03f217ad433eb209a55b26e6142a"
            ],
            "layout": "IPY_MODEL_e3f9bceac58b4081a2c660819f923a5a"
          }
        },
        "2768bdf82d2e418a92c4b9b0e2e67e9a": {
          "model_module": "@jupyter-widgets/controls",
          "model_name": "HTMLModel",
          "model_module_version": "1.5.0",
          "state": {
            "_dom_classes": [],
            "_model_module": "@jupyter-widgets/controls",
            "_model_module_version": "1.5.0",
            "_model_name": "HTMLModel",
            "_view_count": null,
            "_view_module": "@jupyter-widgets/controls",
            "_view_module_version": "1.5.0",
            "_view_name": "HTMLView",
            "description": "",
            "description_tooltip": null,
            "layout": "IPY_MODEL_4652425565de42a39a7bcebfd81e8920",
            "placeholder": "​",
            "style": "IPY_MODEL_3c9d60b1501643c3b9cda2cf80deb519",
            "value": "tokenizer_config.json: 100%"
          }
        },
        "dafafa63cb7d4e27a981646d034190c6": {
          "model_module": "@jupyter-widgets/controls",
          "model_name": "FloatProgressModel",
          "model_module_version": "1.5.0",
          "state": {
            "_dom_classes": [],
            "_model_module": "@jupyter-widgets/controls",
            "_model_module_version": "1.5.0",
            "_model_name": "FloatProgressModel",
            "_view_count": null,
            "_view_module": "@jupyter-widgets/controls",
            "_view_module_version": "1.5.0",
            "_view_name": "ProgressView",
            "bar_style": "success",
            "description": "",
            "description_tooltip": null,
            "layout": "IPY_MODEL_9d6083451a8348009d43eb27af2fb5f2",
            "max": 48,
            "min": 0,
            "orientation": "horizontal",
            "style": "IPY_MODEL_2252fd75a7f34f2f81863e661ca15140",
            "value": 48
          }
        },
        "f14a03f217ad433eb209a55b26e6142a": {
          "model_module": "@jupyter-widgets/controls",
          "model_name": "HTMLModel",
          "model_module_version": "1.5.0",
          "state": {
            "_dom_classes": [],
            "_model_module": "@jupyter-widgets/controls",
            "_model_module_version": "1.5.0",
            "_model_name": "HTMLModel",
            "_view_count": null,
            "_view_module": "@jupyter-widgets/controls",
            "_view_module_version": "1.5.0",
            "_view_name": "HTMLView",
            "description": "",
            "description_tooltip": null,
            "layout": "IPY_MODEL_b629fa259f144675ab643a24306b5074",
            "placeholder": "​",
            "style": "IPY_MODEL_993ec262fc634d9daace19ef4ba4b7c6",
            "value": " 48.0/48.0 [00:00&lt;00:00, 3.94kB/s]"
          }
        },
        "e3f9bceac58b4081a2c660819f923a5a": {
          "model_module": "@jupyter-widgets/base",
          "model_name": "LayoutModel",
          "model_module_version": "1.2.0",
          "state": {
            "_model_module": "@jupyter-widgets/base",
            "_model_module_version": "1.2.0",
            "_model_name": "LayoutModel",
            "_view_count": null,
            "_view_module": "@jupyter-widgets/base",
            "_view_module_version": "1.2.0",
            "_view_name": "LayoutView",
            "align_content": null,
            "align_items": null,
            "align_self": null,
            "border": null,
            "bottom": null,
            "display": null,
            "flex": null,
            "flex_flow": null,
            "grid_area": null,
            "grid_auto_columns": null,
            "grid_auto_flow": null,
            "grid_auto_rows": null,
            "grid_column": null,
            "grid_gap": null,
            "grid_row": null,
            "grid_template_areas": null,
            "grid_template_columns": null,
            "grid_template_rows": null,
            "height": null,
            "justify_content": null,
            "justify_items": null,
            "left": null,
            "margin": null,
            "max_height": null,
            "max_width": null,
            "min_height": null,
            "min_width": null,
            "object_fit": null,
            "object_position": null,
            "order": null,
            "overflow": null,
            "overflow_x": null,
            "overflow_y": null,
            "padding": null,
            "right": null,
            "top": null,
            "visibility": null,
            "width": null
          }
        },
        "4652425565de42a39a7bcebfd81e8920": {
          "model_module": "@jupyter-widgets/base",
          "model_name": "LayoutModel",
          "model_module_version": "1.2.0",
          "state": {
            "_model_module": "@jupyter-widgets/base",
            "_model_module_version": "1.2.0",
            "_model_name": "LayoutModel",
            "_view_count": null,
            "_view_module": "@jupyter-widgets/base",
            "_view_module_version": "1.2.0",
            "_view_name": "LayoutView",
            "align_content": null,
            "align_items": null,
            "align_self": null,
            "border": null,
            "bottom": null,
            "display": null,
            "flex": null,
            "flex_flow": null,
            "grid_area": null,
            "grid_auto_columns": null,
            "grid_auto_flow": null,
            "grid_auto_rows": null,
            "grid_column": null,
            "grid_gap": null,
            "grid_row": null,
            "grid_template_areas": null,
            "grid_template_columns": null,
            "grid_template_rows": null,
            "height": null,
            "justify_content": null,
            "justify_items": null,
            "left": null,
            "margin": null,
            "max_height": null,
            "max_width": null,
            "min_height": null,
            "min_width": null,
            "object_fit": null,
            "object_position": null,
            "order": null,
            "overflow": null,
            "overflow_x": null,
            "overflow_y": null,
            "padding": null,
            "right": null,
            "top": null,
            "visibility": null,
            "width": null
          }
        },
        "3c9d60b1501643c3b9cda2cf80deb519": {
          "model_module": "@jupyter-widgets/controls",
          "model_name": "DescriptionStyleModel",
          "model_module_version": "1.5.0",
          "state": {
            "_model_module": "@jupyter-widgets/controls",
            "_model_module_version": "1.5.0",
            "_model_name": "DescriptionStyleModel",
            "_view_count": null,
            "_view_module": "@jupyter-widgets/base",
            "_view_module_version": "1.2.0",
            "_view_name": "StyleView",
            "description_width": ""
          }
        },
        "9d6083451a8348009d43eb27af2fb5f2": {
          "model_module": "@jupyter-widgets/base",
          "model_name": "LayoutModel",
          "model_module_version": "1.2.0",
          "state": {
            "_model_module": "@jupyter-widgets/base",
            "_model_module_version": "1.2.0",
            "_model_name": "LayoutModel",
            "_view_count": null,
            "_view_module": "@jupyter-widgets/base",
            "_view_module_version": "1.2.0",
            "_view_name": "LayoutView",
            "align_content": null,
            "align_items": null,
            "align_self": null,
            "border": null,
            "bottom": null,
            "display": null,
            "flex": null,
            "flex_flow": null,
            "grid_area": null,
            "grid_auto_columns": null,
            "grid_auto_flow": null,
            "grid_auto_rows": null,
            "grid_column": null,
            "grid_gap": null,
            "grid_row": null,
            "grid_template_areas": null,
            "grid_template_columns": null,
            "grid_template_rows": null,
            "height": null,
            "justify_content": null,
            "justify_items": null,
            "left": null,
            "margin": null,
            "max_height": null,
            "max_width": null,
            "min_height": null,
            "min_width": null,
            "object_fit": null,
            "object_position": null,
            "order": null,
            "overflow": null,
            "overflow_x": null,
            "overflow_y": null,
            "padding": null,
            "right": null,
            "top": null,
            "visibility": null,
            "width": null
          }
        },
        "2252fd75a7f34f2f81863e661ca15140": {
          "model_module": "@jupyter-widgets/controls",
          "model_name": "ProgressStyleModel",
          "model_module_version": "1.5.0",
          "state": {
            "_model_module": "@jupyter-widgets/controls",
            "_model_module_version": "1.5.0",
            "_model_name": "ProgressStyleModel",
            "_view_count": null,
            "_view_module": "@jupyter-widgets/base",
            "_view_module_version": "1.2.0",
            "_view_name": "StyleView",
            "bar_color": null,
            "description_width": ""
          }
        },
        "b629fa259f144675ab643a24306b5074": {
          "model_module": "@jupyter-widgets/base",
          "model_name": "LayoutModel",
          "model_module_version": "1.2.0",
          "state": {
            "_model_module": "@jupyter-widgets/base",
            "_model_module_version": "1.2.0",
            "_model_name": "LayoutModel",
            "_view_count": null,
            "_view_module": "@jupyter-widgets/base",
            "_view_module_version": "1.2.0",
            "_view_name": "LayoutView",
            "align_content": null,
            "align_items": null,
            "align_self": null,
            "border": null,
            "bottom": null,
            "display": null,
            "flex": null,
            "flex_flow": null,
            "grid_area": null,
            "grid_auto_columns": null,
            "grid_auto_flow": null,
            "grid_auto_rows": null,
            "grid_column": null,
            "grid_gap": null,
            "grid_row": null,
            "grid_template_areas": null,
            "grid_template_columns": null,
            "grid_template_rows": null,
            "height": null,
            "justify_content": null,
            "justify_items": null,
            "left": null,
            "margin": null,
            "max_height": null,
            "max_width": null,
            "min_height": null,
            "min_width": null,
            "object_fit": null,
            "object_position": null,
            "order": null,
            "overflow": null,
            "overflow_x": null,
            "overflow_y": null,
            "padding": null,
            "right": null,
            "top": null,
            "visibility": null,
            "width": null
          }
        },
        "993ec262fc634d9daace19ef4ba4b7c6": {
          "model_module": "@jupyter-widgets/controls",
          "model_name": "DescriptionStyleModel",
          "model_module_version": "1.5.0",
          "state": {
            "_model_module": "@jupyter-widgets/controls",
            "_model_module_version": "1.5.0",
            "_model_name": "DescriptionStyleModel",
            "_view_count": null,
            "_view_module": "@jupyter-widgets/base",
            "_view_module_version": "1.2.0",
            "_view_name": "StyleView",
            "description_width": ""
          }
        },
        "009857add9134fbfa868765e0c0052fc": {
          "model_module": "@jupyter-widgets/controls",
          "model_name": "HBoxModel",
          "model_module_version": "1.5.0",
          "state": {
            "_dom_classes": [],
            "_model_module": "@jupyter-widgets/controls",
            "_model_module_version": "1.5.0",
            "_model_name": "HBoxModel",
            "_view_count": null,
            "_view_module": "@jupyter-widgets/controls",
            "_view_module_version": "1.5.0",
            "_view_name": "HBoxView",
            "box_style": "",
            "children": [
              "IPY_MODEL_4fa2d678021b4b63a6dc147ff4be2d98",
              "IPY_MODEL_721ce3bf856f4af28b3946838830f4c2",
              "IPY_MODEL_c563a784518c4b2ebdd9ef856fcd0cb2"
            ],
            "layout": "IPY_MODEL_071c91e8f8e04eba9417e89b710391d4"
          }
        },
        "4fa2d678021b4b63a6dc147ff4be2d98": {
          "model_module": "@jupyter-widgets/controls",
          "model_name": "HTMLModel",
          "model_module_version": "1.5.0",
          "state": {
            "_dom_classes": [],
            "_model_module": "@jupyter-widgets/controls",
            "_model_module_version": "1.5.0",
            "_model_name": "HTMLModel",
            "_view_count": null,
            "_view_module": "@jupyter-widgets/controls",
            "_view_module_version": "1.5.0",
            "_view_name": "HTMLView",
            "description": "",
            "description_tooltip": null,
            "layout": "IPY_MODEL_c8f6cc86c85e442180d4c11259d408ba",
            "placeholder": "​",
            "style": "IPY_MODEL_a9c8b53c0b2d48bb918f7dfa2ef638a7",
            "value": "config.json: 100%"
          }
        },
        "721ce3bf856f4af28b3946838830f4c2": {
          "model_module": "@jupyter-widgets/controls",
          "model_name": "FloatProgressModel",
          "model_module_version": "1.5.0",
          "state": {
            "_dom_classes": [],
            "_model_module": "@jupyter-widgets/controls",
            "_model_module_version": "1.5.0",
            "_model_name": "FloatProgressModel",
            "_view_count": null,
            "_view_module": "@jupyter-widgets/controls",
            "_view_module_version": "1.5.0",
            "_view_name": "ProgressView",
            "bar_style": "success",
            "description": "",
            "description_tooltip": null,
            "layout": "IPY_MODEL_65089ef3b7da4ee684ce5fbdd9c059ce",
            "max": 570,
            "min": 0,
            "orientation": "horizontal",
            "style": "IPY_MODEL_3c0fbb349c00443088d0a41d4c05f058",
            "value": 570
          }
        },
        "c563a784518c4b2ebdd9ef856fcd0cb2": {
          "model_module": "@jupyter-widgets/controls",
          "model_name": "HTMLModel",
          "model_module_version": "1.5.0",
          "state": {
            "_dom_classes": [],
            "_model_module": "@jupyter-widgets/controls",
            "_model_module_version": "1.5.0",
            "_model_name": "HTMLModel",
            "_view_count": null,
            "_view_module": "@jupyter-widgets/controls",
            "_view_module_version": "1.5.0",
            "_view_name": "HTMLView",
            "description": "",
            "description_tooltip": null,
            "layout": "IPY_MODEL_40e4680a19ba49f382be3ef07dabb301",
            "placeholder": "​",
            "style": "IPY_MODEL_2abbeed4bb2140a9a54964f7ed570cfd",
            "value": " 570/570 [00:00&lt;00:00, 43.5kB/s]"
          }
        },
        "071c91e8f8e04eba9417e89b710391d4": {
          "model_module": "@jupyter-widgets/base",
          "model_name": "LayoutModel",
          "model_module_version": "1.2.0",
          "state": {
            "_model_module": "@jupyter-widgets/base",
            "_model_module_version": "1.2.0",
            "_model_name": "LayoutModel",
            "_view_count": null,
            "_view_module": "@jupyter-widgets/base",
            "_view_module_version": "1.2.0",
            "_view_name": "LayoutView",
            "align_content": null,
            "align_items": null,
            "align_self": null,
            "border": null,
            "bottom": null,
            "display": null,
            "flex": null,
            "flex_flow": null,
            "grid_area": null,
            "grid_auto_columns": null,
            "grid_auto_flow": null,
            "grid_auto_rows": null,
            "grid_column": null,
            "grid_gap": null,
            "grid_row": null,
            "grid_template_areas": null,
            "grid_template_columns": null,
            "grid_template_rows": null,
            "height": null,
            "justify_content": null,
            "justify_items": null,
            "left": null,
            "margin": null,
            "max_height": null,
            "max_width": null,
            "min_height": null,
            "min_width": null,
            "object_fit": null,
            "object_position": null,
            "order": null,
            "overflow": null,
            "overflow_x": null,
            "overflow_y": null,
            "padding": null,
            "right": null,
            "top": null,
            "visibility": null,
            "width": null
          }
        },
        "c8f6cc86c85e442180d4c11259d408ba": {
          "model_module": "@jupyter-widgets/base",
          "model_name": "LayoutModel",
          "model_module_version": "1.2.0",
          "state": {
            "_model_module": "@jupyter-widgets/base",
            "_model_module_version": "1.2.0",
            "_model_name": "LayoutModel",
            "_view_count": null,
            "_view_module": "@jupyter-widgets/base",
            "_view_module_version": "1.2.0",
            "_view_name": "LayoutView",
            "align_content": null,
            "align_items": null,
            "align_self": null,
            "border": null,
            "bottom": null,
            "display": null,
            "flex": null,
            "flex_flow": null,
            "grid_area": null,
            "grid_auto_columns": null,
            "grid_auto_flow": null,
            "grid_auto_rows": null,
            "grid_column": null,
            "grid_gap": null,
            "grid_row": null,
            "grid_template_areas": null,
            "grid_template_columns": null,
            "grid_template_rows": null,
            "height": null,
            "justify_content": null,
            "justify_items": null,
            "left": null,
            "margin": null,
            "max_height": null,
            "max_width": null,
            "min_height": null,
            "min_width": null,
            "object_fit": null,
            "object_position": null,
            "order": null,
            "overflow": null,
            "overflow_x": null,
            "overflow_y": null,
            "padding": null,
            "right": null,
            "top": null,
            "visibility": null,
            "width": null
          }
        },
        "a9c8b53c0b2d48bb918f7dfa2ef638a7": {
          "model_module": "@jupyter-widgets/controls",
          "model_name": "DescriptionStyleModel",
          "model_module_version": "1.5.0",
          "state": {
            "_model_module": "@jupyter-widgets/controls",
            "_model_module_version": "1.5.0",
            "_model_name": "DescriptionStyleModel",
            "_view_count": null,
            "_view_module": "@jupyter-widgets/base",
            "_view_module_version": "1.2.0",
            "_view_name": "StyleView",
            "description_width": ""
          }
        },
        "65089ef3b7da4ee684ce5fbdd9c059ce": {
          "model_module": "@jupyter-widgets/base",
          "model_name": "LayoutModel",
          "model_module_version": "1.2.0",
          "state": {
            "_model_module": "@jupyter-widgets/base",
            "_model_module_version": "1.2.0",
            "_model_name": "LayoutModel",
            "_view_count": null,
            "_view_module": "@jupyter-widgets/base",
            "_view_module_version": "1.2.0",
            "_view_name": "LayoutView",
            "align_content": null,
            "align_items": null,
            "align_self": null,
            "border": null,
            "bottom": null,
            "display": null,
            "flex": null,
            "flex_flow": null,
            "grid_area": null,
            "grid_auto_columns": null,
            "grid_auto_flow": null,
            "grid_auto_rows": null,
            "grid_column": null,
            "grid_gap": null,
            "grid_row": null,
            "grid_template_areas": null,
            "grid_template_columns": null,
            "grid_template_rows": null,
            "height": null,
            "justify_content": null,
            "justify_items": null,
            "left": null,
            "margin": null,
            "max_height": null,
            "max_width": null,
            "min_height": null,
            "min_width": null,
            "object_fit": null,
            "object_position": null,
            "order": null,
            "overflow": null,
            "overflow_x": null,
            "overflow_y": null,
            "padding": null,
            "right": null,
            "top": null,
            "visibility": null,
            "width": null
          }
        },
        "3c0fbb349c00443088d0a41d4c05f058": {
          "model_module": "@jupyter-widgets/controls",
          "model_name": "ProgressStyleModel",
          "model_module_version": "1.5.0",
          "state": {
            "_model_module": "@jupyter-widgets/controls",
            "_model_module_version": "1.5.0",
            "_model_name": "ProgressStyleModel",
            "_view_count": null,
            "_view_module": "@jupyter-widgets/base",
            "_view_module_version": "1.2.0",
            "_view_name": "StyleView",
            "bar_color": null,
            "description_width": ""
          }
        },
        "40e4680a19ba49f382be3ef07dabb301": {
          "model_module": "@jupyter-widgets/base",
          "model_name": "LayoutModel",
          "model_module_version": "1.2.0",
          "state": {
            "_model_module": "@jupyter-widgets/base",
            "_model_module_version": "1.2.0",
            "_model_name": "LayoutModel",
            "_view_count": null,
            "_view_module": "@jupyter-widgets/base",
            "_view_module_version": "1.2.0",
            "_view_name": "LayoutView",
            "align_content": null,
            "align_items": null,
            "align_self": null,
            "border": null,
            "bottom": null,
            "display": null,
            "flex": null,
            "flex_flow": null,
            "grid_area": null,
            "grid_auto_columns": null,
            "grid_auto_flow": null,
            "grid_auto_rows": null,
            "grid_column": null,
            "grid_gap": null,
            "grid_row": null,
            "grid_template_areas": null,
            "grid_template_columns": null,
            "grid_template_rows": null,
            "height": null,
            "justify_content": null,
            "justify_items": null,
            "left": null,
            "margin": null,
            "max_height": null,
            "max_width": null,
            "min_height": null,
            "min_width": null,
            "object_fit": null,
            "object_position": null,
            "order": null,
            "overflow": null,
            "overflow_x": null,
            "overflow_y": null,
            "padding": null,
            "right": null,
            "top": null,
            "visibility": null,
            "width": null
          }
        },
        "2abbeed4bb2140a9a54964f7ed570cfd": {
          "model_module": "@jupyter-widgets/controls",
          "model_name": "DescriptionStyleModel",
          "model_module_version": "1.5.0",
          "state": {
            "_model_module": "@jupyter-widgets/controls",
            "_model_module_version": "1.5.0",
            "_model_name": "DescriptionStyleModel",
            "_view_count": null,
            "_view_module": "@jupyter-widgets/base",
            "_view_module_version": "1.2.0",
            "_view_name": "StyleView",
            "description_width": ""
          }
        },
        "d26a64d3c4e347d590beecbd42facbaa": {
          "model_module": "@jupyter-widgets/controls",
          "model_name": "HBoxModel",
          "model_module_version": "1.5.0",
          "state": {
            "_dom_classes": [],
            "_model_module": "@jupyter-widgets/controls",
            "_model_module_version": "1.5.0",
            "_model_name": "HBoxModel",
            "_view_count": null,
            "_view_module": "@jupyter-widgets/controls",
            "_view_module_version": "1.5.0",
            "_view_name": "HBoxView",
            "box_style": "",
            "children": [
              "IPY_MODEL_0c72094d8a7048a8a418dd0152eb000f",
              "IPY_MODEL_c44e3e7e531944f091f18cbfddc7c4db",
              "IPY_MODEL_d0164a1c55874a639c2b2749b2258e9b"
            ],
            "layout": "IPY_MODEL_f157afa86f084d54aa0664fcfb46d4c0"
          }
        },
        "0c72094d8a7048a8a418dd0152eb000f": {
          "model_module": "@jupyter-widgets/controls",
          "model_name": "HTMLModel",
          "model_module_version": "1.5.0",
          "state": {
            "_dom_classes": [],
            "_model_module": "@jupyter-widgets/controls",
            "_model_module_version": "1.5.0",
            "_model_name": "HTMLModel",
            "_view_count": null,
            "_view_module": "@jupyter-widgets/controls",
            "_view_module_version": "1.5.0",
            "_view_name": "HTMLView",
            "description": "",
            "description_tooltip": null,
            "layout": "IPY_MODEL_bf4258a4d6654235be4119da94919e2b",
            "placeholder": "​",
            "style": "IPY_MODEL_404c3844d97e4036b8dd2741c5c7eb67",
            "value": "vocab.txt: 100%"
          }
        },
        "c44e3e7e531944f091f18cbfddc7c4db": {
          "model_module": "@jupyter-widgets/controls",
          "model_name": "FloatProgressModel",
          "model_module_version": "1.5.0",
          "state": {
            "_dom_classes": [],
            "_model_module": "@jupyter-widgets/controls",
            "_model_module_version": "1.5.0",
            "_model_name": "FloatProgressModel",
            "_view_count": null,
            "_view_module": "@jupyter-widgets/controls",
            "_view_module_version": "1.5.0",
            "_view_name": "ProgressView",
            "bar_style": "success",
            "description": "",
            "description_tooltip": null,
            "layout": "IPY_MODEL_d08d6ddb88f2418f9de50870abef81cd",
            "max": 231508,
            "min": 0,
            "orientation": "horizontal",
            "style": "IPY_MODEL_b3e31cd86db649faa768916d6202798e",
            "value": 231508
          }
        },
        "d0164a1c55874a639c2b2749b2258e9b": {
          "model_module": "@jupyter-widgets/controls",
          "model_name": "HTMLModel",
          "model_module_version": "1.5.0",
          "state": {
            "_dom_classes": [],
            "_model_module": "@jupyter-widgets/controls",
            "_model_module_version": "1.5.0",
            "_model_name": "HTMLModel",
            "_view_count": null,
            "_view_module": "@jupyter-widgets/controls",
            "_view_module_version": "1.5.0",
            "_view_name": "HTMLView",
            "description": "",
            "description_tooltip": null,
            "layout": "IPY_MODEL_9c9496bbbf1f4fc18acd25a214f6a87c",
            "placeholder": "​",
            "style": "IPY_MODEL_d600e142d58f460abd407c6ef2c2a964",
            "value": " 232k/232k [00:00&lt;00:00, 5.23MB/s]"
          }
        },
        "f157afa86f084d54aa0664fcfb46d4c0": {
          "model_module": "@jupyter-widgets/base",
          "model_name": "LayoutModel",
          "model_module_version": "1.2.0",
          "state": {
            "_model_module": "@jupyter-widgets/base",
            "_model_module_version": "1.2.0",
            "_model_name": "LayoutModel",
            "_view_count": null,
            "_view_module": "@jupyter-widgets/base",
            "_view_module_version": "1.2.0",
            "_view_name": "LayoutView",
            "align_content": null,
            "align_items": null,
            "align_self": null,
            "border": null,
            "bottom": null,
            "display": null,
            "flex": null,
            "flex_flow": null,
            "grid_area": null,
            "grid_auto_columns": null,
            "grid_auto_flow": null,
            "grid_auto_rows": null,
            "grid_column": null,
            "grid_gap": null,
            "grid_row": null,
            "grid_template_areas": null,
            "grid_template_columns": null,
            "grid_template_rows": null,
            "height": null,
            "justify_content": null,
            "justify_items": null,
            "left": null,
            "margin": null,
            "max_height": null,
            "max_width": null,
            "min_height": null,
            "min_width": null,
            "object_fit": null,
            "object_position": null,
            "order": null,
            "overflow": null,
            "overflow_x": null,
            "overflow_y": null,
            "padding": null,
            "right": null,
            "top": null,
            "visibility": null,
            "width": null
          }
        },
        "bf4258a4d6654235be4119da94919e2b": {
          "model_module": "@jupyter-widgets/base",
          "model_name": "LayoutModel",
          "model_module_version": "1.2.0",
          "state": {
            "_model_module": "@jupyter-widgets/base",
            "_model_module_version": "1.2.0",
            "_model_name": "LayoutModel",
            "_view_count": null,
            "_view_module": "@jupyter-widgets/base",
            "_view_module_version": "1.2.0",
            "_view_name": "LayoutView",
            "align_content": null,
            "align_items": null,
            "align_self": null,
            "border": null,
            "bottom": null,
            "display": null,
            "flex": null,
            "flex_flow": null,
            "grid_area": null,
            "grid_auto_columns": null,
            "grid_auto_flow": null,
            "grid_auto_rows": null,
            "grid_column": null,
            "grid_gap": null,
            "grid_row": null,
            "grid_template_areas": null,
            "grid_template_columns": null,
            "grid_template_rows": null,
            "height": null,
            "justify_content": null,
            "justify_items": null,
            "left": null,
            "margin": null,
            "max_height": null,
            "max_width": null,
            "min_height": null,
            "min_width": null,
            "object_fit": null,
            "object_position": null,
            "order": null,
            "overflow": null,
            "overflow_x": null,
            "overflow_y": null,
            "padding": null,
            "right": null,
            "top": null,
            "visibility": null,
            "width": null
          }
        },
        "404c3844d97e4036b8dd2741c5c7eb67": {
          "model_module": "@jupyter-widgets/controls",
          "model_name": "DescriptionStyleModel",
          "model_module_version": "1.5.0",
          "state": {
            "_model_module": "@jupyter-widgets/controls",
            "_model_module_version": "1.5.0",
            "_model_name": "DescriptionStyleModel",
            "_view_count": null,
            "_view_module": "@jupyter-widgets/base",
            "_view_module_version": "1.2.0",
            "_view_name": "StyleView",
            "description_width": ""
          }
        },
        "d08d6ddb88f2418f9de50870abef81cd": {
          "model_module": "@jupyter-widgets/base",
          "model_name": "LayoutModel",
          "model_module_version": "1.2.0",
          "state": {
            "_model_module": "@jupyter-widgets/base",
            "_model_module_version": "1.2.0",
            "_model_name": "LayoutModel",
            "_view_count": null,
            "_view_module": "@jupyter-widgets/base",
            "_view_module_version": "1.2.0",
            "_view_name": "LayoutView",
            "align_content": null,
            "align_items": null,
            "align_self": null,
            "border": null,
            "bottom": null,
            "display": null,
            "flex": null,
            "flex_flow": null,
            "grid_area": null,
            "grid_auto_columns": null,
            "grid_auto_flow": null,
            "grid_auto_rows": null,
            "grid_column": null,
            "grid_gap": null,
            "grid_row": null,
            "grid_template_areas": null,
            "grid_template_columns": null,
            "grid_template_rows": null,
            "height": null,
            "justify_content": null,
            "justify_items": null,
            "left": null,
            "margin": null,
            "max_height": null,
            "max_width": null,
            "min_height": null,
            "min_width": null,
            "object_fit": null,
            "object_position": null,
            "order": null,
            "overflow": null,
            "overflow_x": null,
            "overflow_y": null,
            "padding": null,
            "right": null,
            "top": null,
            "visibility": null,
            "width": null
          }
        },
        "b3e31cd86db649faa768916d6202798e": {
          "model_module": "@jupyter-widgets/controls",
          "model_name": "ProgressStyleModel",
          "model_module_version": "1.5.0",
          "state": {
            "_model_module": "@jupyter-widgets/controls",
            "_model_module_version": "1.5.0",
            "_model_name": "ProgressStyleModel",
            "_view_count": null,
            "_view_module": "@jupyter-widgets/base",
            "_view_module_version": "1.2.0",
            "_view_name": "StyleView",
            "bar_color": null,
            "description_width": ""
          }
        },
        "9c9496bbbf1f4fc18acd25a214f6a87c": {
          "model_module": "@jupyter-widgets/base",
          "model_name": "LayoutModel",
          "model_module_version": "1.2.0",
          "state": {
            "_model_module": "@jupyter-widgets/base",
            "_model_module_version": "1.2.0",
            "_model_name": "LayoutModel",
            "_view_count": null,
            "_view_module": "@jupyter-widgets/base",
            "_view_module_version": "1.2.0",
            "_view_name": "LayoutView",
            "align_content": null,
            "align_items": null,
            "align_self": null,
            "border": null,
            "bottom": null,
            "display": null,
            "flex": null,
            "flex_flow": null,
            "grid_area": null,
            "grid_auto_columns": null,
            "grid_auto_flow": null,
            "grid_auto_rows": null,
            "grid_column": null,
            "grid_gap": null,
            "grid_row": null,
            "grid_template_areas": null,
            "grid_template_columns": null,
            "grid_template_rows": null,
            "height": null,
            "justify_content": null,
            "justify_items": null,
            "left": null,
            "margin": null,
            "max_height": null,
            "max_width": null,
            "min_height": null,
            "min_width": null,
            "object_fit": null,
            "object_position": null,
            "order": null,
            "overflow": null,
            "overflow_x": null,
            "overflow_y": null,
            "padding": null,
            "right": null,
            "top": null,
            "visibility": null,
            "width": null
          }
        },
        "d600e142d58f460abd407c6ef2c2a964": {
          "model_module": "@jupyter-widgets/controls",
          "model_name": "DescriptionStyleModel",
          "model_module_version": "1.5.0",
          "state": {
            "_model_module": "@jupyter-widgets/controls",
            "_model_module_version": "1.5.0",
            "_model_name": "DescriptionStyleModel",
            "_view_count": null,
            "_view_module": "@jupyter-widgets/base",
            "_view_module_version": "1.2.0",
            "_view_name": "StyleView",
            "description_width": ""
          }
        },
        "2079b8ed133a4e5e9afdc9cf0c0d1aba": {
          "model_module": "@jupyter-widgets/controls",
          "model_name": "HBoxModel",
          "model_module_version": "1.5.0",
          "state": {
            "_dom_classes": [],
            "_model_module": "@jupyter-widgets/controls",
            "_model_module_version": "1.5.0",
            "_model_name": "HBoxModel",
            "_view_count": null,
            "_view_module": "@jupyter-widgets/controls",
            "_view_module_version": "1.5.0",
            "_view_name": "HBoxView",
            "box_style": "",
            "children": [
              "IPY_MODEL_ffb39dd252024f259ad47892468f6436",
              "IPY_MODEL_0c0f1f6f7bff4a29a31251f2fadb45ea",
              "IPY_MODEL_04ff84b1caba4d1588d8d0fe8678785c"
            ],
            "layout": "IPY_MODEL_dc35d24f638048c0aba4bf256ebff315"
          }
        },
        "ffb39dd252024f259ad47892468f6436": {
          "model_module": "@jupyter-widgets/controls",
          "model_name": "HTMLModel",
          "model_module_version": "1.5.0",
          "state": {
            "_dom_classes": [],
            "_model_module": "@jupyter-widgets/controls",
            "_model_module_version": "1.5.0",
            "_model_name": "HTMLModel",
            "_view_count": null,
            "_view_module": "@jupyter-widgets/controls",
            "_view_module_version": "1.5.0",
            "_view_name": "HTMLView",
            "description": "",
            "description_tooltip": null,
            "layout": "IPY_MODEL_2ec85e726f4146ddb1b0c2c1f65f3983",
            "placeholder": "​",
            "style": "IPY_MODEL_04557257da844935b1dbb09002e32bfb",
            "value": "tokenizer.json: 100%"
          }
        },
        "0c0f1f6f7bff4a29a31251f2fadb45ea": {
          "model_module": "@jupyter-widgets/controls",
          "model_name": "FloatProgressModel",
          "model_module_version": "1.5.0",
          "state": {
            "_dom_classes": [],
            "_model_module": "@jupyter-widgets/controls",
            "_model_module_version": "1.5.0",
            "_model_name": "FloatProgressModel",
            "_view_count": null,
            "_view_module": "@jupyter-widgets/controls",
            "_view_module_version": "1.5.0",
            "_view_name": "ProgressView",
            "bar_style": "success",
            "description": "",
            "description_tooltip": null,
            "layout": "IPY_MODEL_676b5494de474a868f70a08c44be0958",
            "max": 466062,
            "min": 0,
            "orientation": "horizontal",
            "style": "IPY_MODEL_793cd4ec4b5e41ad8e7c0cdaf76e8c87",
            "value": 466062
          }
        },
        "04ff84b1caba4d1588d8d0fe8678785c": {
          "model_module": "@jupyter-widgets/controls",
          "model_name": "HTMLModel",
          "model_module_version": "1.5.0",
          "state": {
            "_dom_classes": [],
            "_model_module": "@jupyter-widgets/controls",
            "_model_module_version": "1.5.0",
            "_model_name": "HTMLModel",
            "_view_count": null,
            "_view_module": "@jupyter-widgets/controls",
            "_view_module_version": "1.5.0",
            "_view_name": "HTMLView",
            "description": "",
            "description_tooltip": null,
            "layout": "IPY_MODEL_e1c43a0052584ee6bfb1da1894c50388",
            "placeholder": "​",
            "style": "IPY_MODEL_ccb029f6887c4d79896ae68ddf79175d",
            "value": " 466k/466k [00:00&lt;00:00, 13.9MB/s]"
          }
        },
        "dc35d24f638048c0aba4bf256ebff315": {
          "model_module": "@jupyter-widgets/base",
          "model_name": "LayoutModel",
          "model_module_version": "1.2.0",
          "state": {
            "_model_module": "@jupyter-widgets/base",
            "_model_module_version": "1.2.0",
            "_model_name": "LayoutModel",
            "_view_count": null,
            "_view_module": "@jupyter-widgets/base",
            "_view_module_version": "1.2.0",
            "_view_name": "LayoutView",
            "align_content": null,
            "align_items": null,
            "align_self": null,
            "border": null,
            "bottom": null,
            "display": null,
            "flex": null,
            "flex_flow": null,
            "grid_area": null,
            "grid_auto_columns": null,
            "grid_auto_flow": null,
            "grid_auto_rows": null,
            "grid_column": null,
            "grid_gap": null,
            "grid_row": null,
            "grid_template_areas": null,
            "grid_template_columns": null,
            "grid_template_rows": null,
            "height": null,
            "justify_content": null,
            "justify_items": null,
            "left": null,
            "margin": null,
            "max_height": null,
            "max_width": null,
            "min_height": null,
            "min_width": null,
            "object_fit": null,
            "object_position": null,
            "order": null,
            "overflow": null,
            "overflow_x": null,
            "overflow_y": null,
            "padding": null,
            "right": null,
            "top": null,
            "visibility": null,
            "width": null
          }
        },
        "2ec85e726f4146ddb1b0c2c1f65f3983": {
          "model_module": "@jupyter-widgets/base",
          "model_name": "LayoutModel",
          "model_module_version": "1.2.0",
          "state": {
            "_model_module": "@jupyter-widgets/base",
            "_model_module_version": "1.2.0",
            "_model_name": "LayoutModel",
            "_view_count": null,
            "_view_module": "@jupyter-widgets/base",
            "_view_module_version": "1.2.0",
            "_view_name": "LayoutView",
            "align_content": null,
            "align_items": null,
            "align_self": null,
            "border": null,
            "bottom": null,
            "display": null,
            "flex": null,
            "flex_flow": null,
            "grid_area": null,
            "grid_auto_columns": null,
            "grid_auto_flow": null,
            "grid_auto_rows": null,
            "grid_column": null,
            "grid_gap": null,
            "grid_row": null,
            "grid_template_areas": null,
            "grid_template_columns": null,
            "grid_template_rows": null,
            "height": null,
            "justify_content": null,
            "justify_items": null,
            "left": null,
            "margin": null,
            "max_height": null,
            "max_width": null,
            "min_height": null,
            "min_width": null,
            "object_fit": null,
            "object_position": null,
            "order": null,
            "overflow": null,
            "overflow_x": null,
            "overflow_y": null,
            "padding": null,
            "right": null,
            "top": null,
            "visibility": null,
            "width": null
          }
        },
        "04557257da844935b1dbb09002e32bfb": {
          "model_module": "@jupyter-widgets/controls",
          "model_name": "DescriptionStyleModel",
          "model_module_version": "1.5.0",
          "state": {
            "_model_module": "@jupyter-widgets/controls",
            "_model_module_version": "1.5.0",
            "_model_name": "DescriptionStyleModel",
            "_view_count": null,
            "_view_module": "@jupyter-widgets/base",
            "_view_module_version": "1.2.0",
            "_view_name": "StyleView",
            "description_width": ""
          }
        },
        "676b5494de474a868f70a08c44be0958": {
          "model_module": "@jupyter-widgets/base",
          "model_name": "LayoutModel",
          "model_module_version": "1.2.0",
          "state": {
            "_model_module": "@jupyter-widgets/base",
            "_model_module_version": "1.2.0",
            "_model_name": "LayoutModel",
            "_view_count": null,
            "_view_module": "@jupyter-widgets/base",
            "_view_module_version": "1.2.0",
            "_view_name": "LayoutView",
            "align_content": null,
            "align_items": null,
            "align_self": null,
            "border": null,
            "bottom": null,
            "display": null,
            "flex": null,
            "flex_flow": null,
            "grid_area": null,
            "grid_auto_columns": null,
            "grid_auto_flow": null,
            "grid_auto_rows": null,
            "grid_column": null,
            "grid_gap": null,
            "grid_row": null,
            "grid_template_areas": null,
            "grid_template_columns": null,
            "grid_template_rows": null,
            "height": null,
            "justify_content": null,
            "justify_items": null,
            "left": null,
            "margin": null,
            "max_height": null,
            "max_width": null,
            "min_height": null,
            "min_width": null,
            "object_fit": null,
            "object_position": null,
            "order": null,
            "overflow": null,
            "overflow_x": null,
            "overflow_y": null,
            "padding": null,
            "right": null,
            "top": null,
            "visibility": null,
            "width": null
          }
        },
        "793cd4ec4b5e41ad8e7c0cdaf76e8c87": {
          "model_module": "@jupyter-widgets/controls",
          "model_name": "ProgressStyleModel",
          "model_module_version": "1.5.0",
          "state": {
            "_model_module": "@jupyter-widgets/controls",
            "_model_module_version": "1.5.0",
            "_model_name": "ProgressStyleModel",
            "_view_count": null,
            "_view_module": "@jupyter-widgets/base",
            "_view_module_version": "1.2.0",
            "_view_name": "StyleView",
            "bar_color": null,
            "description_width": ""
          }
        },
        "e1c43a0052584ee6bfb1da1894c50388": {
          "model_module": "@jupyter-widgets/base",
          "model_name": "LayoutModel",
          "model_module_version": "1.2.0",
          "state": {
            "_model_module": "@jupyter-widgets/base",
            "_model_module_version": "1.2.0",
            "_model_name": "LayoutModel",
            "_view_count": null,
            "_view_module": "@jupyter-widgets/base",
            "_view_module_version": "1.2.0",
            "_view_name": "LayoutView",
            "align_content": null,
            "align_items": null,
            "align_self": null,
            "border": null,
            "bottom": null,
            "display": null,
            "flex": null,
            "flex_flow": null,
            "grid_area": null,
            "grid_auto_columns": null,
            "grid_auto_flow": null,
            "grid_auto_rows": null,
            "grid_column": null,
            "grid_gap": null,
            "grid_row": null,
            "grid_template_areas": null,
            "grid_template_columns": null,
            "grid_template_rows": null,
            "height": null,
            "justify_content": null,
            "justify_items": null,
            "left": null,
            "margin": null,
            "max_height": null,
            "max_width": null,
            "min_height": null,
            "min_width": null,
            "object_fit": null,
            "object_position": null,
            "order": null,
            "overflow": null,
            "overflow_x": null,
            "overflow_y": null,
            "padding": null,
            "right": null,
            "top": null,
            "visibility": null,
            "width": null
          }
        },
        "ccb029f6887c4d79896ae68ddf79175d": {
          "model_module": "@jupyter-widgets/controls",
          "model_name": "DescriptionStyleModel",
          "model_module_version": "1.5.0",
          "state": {
            "_model_module": "@jupyter-widgets/controls",
            "_model_module_version": "1.5.0",
            "_model_name": "DescriptionStyleModel",
            "_view_count": null,
            "_view_module": "@jupyter-widgets/base",
            "_view_module_version": "1.2.0",
            "_view_name": "StyleView",
            "description_width": ""
          }
        }
      }
    }
  },
  "nbformat": 4,
  "nbformat_minor": 5
}